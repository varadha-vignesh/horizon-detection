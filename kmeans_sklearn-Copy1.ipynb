{
 "cells": [
  {
   "cell_type": "code",
   "execution_count": 254,
   "metadata": {},
   "outputs": [],
   "source": [
    "import numpy as np\n",
    "from PIL import Image\n",
    "import matplotlib.pyplot as plt\n",
    "from scipy.ndimage.filters import gaussian_filter\n",
    "from sklearn import cluster\n",
    "from sklearn.cluster import KMeans"
   ]
  },
  {
   "cell_type": "code",
   "execution_count": 255,
   "metadata": {},
   "outputs": [],
   "source": [
    " def rgb2grayscale(im):\n",
    "        \"\"\"\n",
    "            Converts RGB to Grayscale.\n",
    "            @params: Input RGB image.\n",
    "            @return: Grayscale image(1 channel)\n",
    "        \"\"\"\n",
    "        if  len(im.shape) > 2:\n",
    "            if im.shape[2] == 3: # Convert RGB image to Grayscale\n",
    "                r, g, b = im[:, :, 0], im[:, :, 1], im[:, :, 2]\n",
    "                grayscale = 0.2989 * r + 0.5870 * g + 0.1140 * b\n",
    "                return grayscale\n",
    "        else:\n",
    "            return im"
   ]
  },
  {
   "cell_type": "code",
   "execution_count": 262,
   "metadata": {},
   "outputs": [],
   "source": [
    "#Step1 : convert original image to grayscale\n",
    "im = Image.open(\"sunset.jpg\")\n",
    "im_array=np.array(im)\n",
    "#img = rgb2grayscale(np.array(im))\n",
    "#img=np.float32(img)\n",
    "#print(im_array)"
   ]
  },
  {
   "cell_type": "code",
   "execution_count": 263,
   "metadata": {},
   "outputs": [],
   "source": [
    "\n",
    "#Step 2: apply guassian filter\n",
    "gaussian = gaussian_filter(im_array,7.0)"
   ]
  },
  {
   "cell_type": "code",
   "execution_count": 264,
   "metadata": {},
   "outputs": [],
   "source": [
    "#plt.imshow(im_array)"
   ]
  },
  {
   "cell_type": "code",
   "execution_count": 265,
   "metadata": {},
   "outputs": [],
   "source": [
    "#plt.imshow(gaussian)"
   ]
  },
  {
   "cell_type": "code",
   "execution_count": 266,
   "metadata": {},
   "outputs": [
    {
     "name": "stdout",
     "output_type": "stream",
     "text": [
      "(600, 600, 3)\n"
     ]
    }
   ],
   "source": [
    "#Step 3: apply K means clustering algorithm\n",
    "print(gaussian.shape)\n",
    "\n",
    "#Step 4 reshape to give 2D array\n",
    "pixels=gaussian.reshape(gaussian.shape[0]*gaussian.shape[1],gaussian.shape[2])\n",
    "#print(pixels.shape)"
   ]
  },
  {
   "cell_type": "code",
   "execution_count": 261,
   "metadata": {},
   "outputs": [
    {
     "data": {
      "text/plain": [
       "KMeans(algorithm='auto', copy_x=True, init='k-means++', max_iter=300,\n",
       "    n_clusters=8, n_init=10, n_jobs=None, precompute_distances='auto',\n",
       "    random_state=None, tol=0.0001, verbose=0)"
      ]
     },
     "execution_count": 261,
     "metadata": {},
     "output_type": "execute_result"
    }
   ],
   "source": [
    "#Step 4: Kmeans\n",
    "\n",
    "model = cluster.KMeans(n_clusters=8)\n",
    "model.fit(X)\n",
    "\n"
   ]
  },
  {
   "cell_type": "code",
   "execution_count": 267,
   "metadata": {},
   "outputs": [
    {
     "data": {
      "text/plain": [
       "360000"
      ]
     },
     "execution_count": 267,
     "metadata": {},
     "output_type": "execute_result"
    }
   ],
   "source": [
    "#Step6: Labels array is shaped as a vector and need to be reshaped as an image (width x height)\n",
    "pixel_centroids=model.labels_\n",
    "cluster_centers=model.cluster_centers_\n",
    "pixel_centroids.shape[0]\n",
    "\n",
    "\n"
   ]
  },
  {
   "cell_type": "code",
   "execution_count": 240,
   "metadata": {},
   "outputs": [
    {
     "data": {
      "text/plain": [
       "(360000, 3)"
      ]
     },
     "execution_count": 240,
     "metadata": {},
     "output_type": "execute_result"
    }
   ],
   "source": [
    "final=np.zeros((pixel_centroids.shape[0],3))\n",
    "final.shape          "
   ]
  },
  {
   "cell_type": "code",
   "execution_count": 268,
   "metadata": {},
   "outputs": [
    {
     "data": {
      "text/plain": [
       "array([[153.92176379, 153.92176379, 153.92176379],\n",
       "       [153.92176379, 153.92176379, 153.92176379],\n",
       "       [153.92176379, 153.92176379, 153.92176379],\n",
       "       [153.92176379, 153.92176379, 153.92176379],\n",
       "       [153.92176379, 153.92176379, 153.92176379]])"
      ]
     },
     "execution_count": 268,
     "metadata": {},
     "output_type": "execute_result"
    }
   ],
   "source": [
    "for cluster_no in range(8):\n",
    "    final[pixel_centroids==cluster_no]=cluster_centers[cluster_no]\n",
    "\n",
    "final[0:5]                                            "
   ]
  },
  {
   "cell_type": "code",
   "execution_count": 244,
   "metadata": {},
   "outputs": [
    {
     "data": {
      "text/plain": [
       "(600, 600, 3)"
      ]
     },
     "execution_count": 244,
     "metadata": {},
     "output_type": "execute_result"
    }
   ],
   "source": [
    "comp_image=final.reshape(im_array.shape[0],im_array.shape[1],3)\n",
    "comp_image.shape"
   ]
  },
  {
   "cell_type": "code",
   "execution_count": 269,
   "metadata": {},
   "outputs": [],
   "source": [
    "comp_image=Image.fromarray(np.uint8(comp_image))\n",
    "comp_image.save('compressed.jpg')"
   ]
  },
  {
   "cell_type": "code",
   "execution_count": null,
   "metadata": {},
   "outputs": [],
   "source": []
  }
 ],
 "metadata": {
  "kernelspec": {
   "display_name": "Python 3",
   "language": "python",
   "name": "python3"
  },
  "language_info": {
   "codemirror_mode": {
    "name": "ipython",
    "version": 3
   },
   "file_extension": ".py",
   "mimetype": "text/x-python",
   "name": "python",
   "nbconvert_exporter": "python",
   "pygments_lexer": "ipython3",
   "version": "3.7.2"
  }
 },
 "nbformat": 4,
 "nbformat_minor": 2
}
